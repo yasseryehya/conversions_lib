{
 "cells": [
  {
   "cell_type": "code",
   "execution_count": 3,
   "metadata": {},
   "outputs": [
    {
     "name": "stdout",
     "output_type": "stream",
     "text": [
      "Conversion successful.\n",
      "Conversion successful.\n",
      "[['1' '1' '1' '1' '1']\n",
      " ['2' '2' '2' '2' '2']\n",
      " ['3' '3' '3' '3' '3']\n",
      " ['4' '4' '4' '4' '4']]\n",
      "[['1' '1' '1' '1' '1']\n",
      " ['2' '2' '2' '2' '2']\n",
      " ['3' '3' '3' '3' '3']\n",
      " ['4' '4' '4' '4' '4']]\n"
     ]
    }
   ],
   "source": [
    "from conversionslib.numpy import csv2npz\n",
    "from conversionslib.numpy import npz2csv\n",
    "from conversionslib.numpy import csv2np\n",
    "from conversionslib.numpy import npz2np\n",
    "\n",
    "csv2npz.csv_to_npz(\"test/test.csv\", \"test/test.npz\")\n",
    "npz2csv.npz_to_csv(\"test/test.npz\", \"test/test.csv\")\n",
    "print(csv2np.csv_to_np_array(\"test/test.csv\"))\n",
    "print(npz2np.npz_to_np_array(\"test/test.npz\"))"
   ]
  },
  {
   "cell_type": "code",
   "execution_count": 4,
   "metadata": {},
   "outputs": [
    {
     "name": "stdout",
     "output_type": "stream",
     "text": [
      "Conversion successful.\n",
      "Conversion successful.\n",
      "[['1' '1' '1' '1' '1']\n",
      " ['2' '2' '2' '2' '2']\n",
      " ['3' '3' '3' '3' '3']\n",
      " ['4' '4' '4' '4' '4']]\n",
      "[['1' '1' '1' '1' '1']\n",
      " ['2' '2' '2' '2' '2']\n",
      " ['3' '3' '3' '3' '3']\n",
      " ['4' '4' '4' '4' '4']]\n"
     ]
    }
   ],
   "source": [
    "from conversionslib.numpy import *\n",
    "\n",
    "csv2npz.csv_to_npz(\"test/test.csv\", \"test/test.npz\")\n",
    "npz2csv.npz_to_csv(\"test/test.npz\", \"test/test.csv\")\n",
    "print(csv2np.csv_to_np_array(\"test/test.csv\"))\n",
    "print(npz2np.npz_to_np_array(\"test/test.npz\"))"
   ]
  }
 ],
 "metadata": {
  "kernelspec": {
   "display_name": "Python 3",
   "language": "python",
   "name": "python3"
  },
  "language_info": {
   "codemirror_mode": {
    "name": "ipython",
    "version": 3
   },
   "file_extension": ".py",
   "mimetype": "text/x-python",
   "name": "python",
   "nbconvert_exporter": "python",
   "pygments_lexer": "ipython3",
   "version": "3.9.5"
  },
  "orig_nbformat": 4
 },
 "nbformat": 4,
 "nbformat_minor": 2
}
